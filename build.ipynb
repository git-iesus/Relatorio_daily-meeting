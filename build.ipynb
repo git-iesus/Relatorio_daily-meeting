{
 "cells": [
  {
   "cell_type": "code",
   "execution_count": 1,
   "metadata": {},
   "outputs": [],
   "source": [
    "import pyautogui as ptg\n",
    "import pyperclip\n",
    "from time import sleep"
   ]
  },
  {
   "cell_type": "code",
   "execution_count": 11,
   "metadata": {},
   "outputs": [
    {
     "data": {
      "text/plain": [
       "Point(x=1747, y=26)"
      ]
     },
     "execution_count": 11,
     "metadata": {},
     "output_type": "execute_result"
    }
   ],
   "source": [
    "ptg.position()"
   ]
  },
  {
   "cell_type": "code",
   "execution_count": 38,
   "metadata": {},
   "outputs": [],
   "source": [
    "# MINIMIZAR\n",
    "ptg.click(x=1747, y=26)\n",
    "\n",
    "# Abrir o Chrome/Abrir FY\n",
    "ptg.hotkey('win','r')\n",
    "sleep(0.5)\n",
    "ptg.typewrite('chrome')\n",
    "ptg.press('enter')\n",
    "sleep(1)\n",
    "ptg.click(x=962, y=602)\n",
    "sleep(1)\n",
    "\n",
    "ptg.typewrite('https://docs.google.com/spreadsheets/d/1biIcNT7i-dOFssfD0aXFmrsUO00lhnk6H64SweExbIc/edit#gid=1673114418')\n",
    "ptg.press('enter')\n",
    "sleep(10)\n",
    "\n",
    "# Fazer procedimento diário\n",
    "ptg.hotkey('ctrl','down')\n",
    "sleep(5)\n",
    "ptg.hotkey('ctrl','down')\n",
    "sleep(5)\n",
    "\n",
    "# Copiar células\n",
    "ptg.keyDown('ctrl')\n",
    "sleep(0.2)\n",
    "ptg.press('c')\n",
    "sleep(0.3)\n",
    "ptg.keyUp('ctrl')\n",
    "sleep(0.5)\n",
    "\n",
    "for i in range(24):\n",
    "    ptg.press('down')\n",
    "    ptg.hotkey('ctrl','v')\n",
    "    sleep(0.1)\n",
    "\n",
    "for i in range(17):\n",
    "    ptg.press('up')\n",
    "\n",
    "#COLETAR CONSOLID\n",
    "for i in range(7):\n",
    "    ptg.press('right')\n",
    "\n",
    "ptg.hotkey('ctrl','c')\n",
    "sleep(0.5)\n",
    "consolid = pyperclip.paste()\n",
    "\n",
    "ptg.press('down')\n",
    "ptg.press('down')\n",
    "sleep(0.5)\n",
    "\n",
    "ptg.hotkey('ctrl','c')\n",
    "sleep(0.5)\n",
    "masipack = pyperclip.paste()\n",
    "ptg.press('down')\n",
    "\n",
    "ptg.hotkey('ctrl','c')\n",
    "sleep(0.5)\n",
    "envase1 = pyperclip.paste()\n",
    "ptg.press('down')\n",
    "\n",
    "ptg.hotkey('ctrl','c')\n",
    "sleep(0.5)\n",
    "envase2 = pyperclip.paste()\n",
    "ptg.press('down')\n",
    "sleep(0.5)\n",
    "\n",
    "#Mandar a mensagem via Slack\n",
    "ptg.hotkey('win','r')\n",
    "sleep(0.5)\n",
    "ptg.typewrite('notepad')\n",
    "ptg.press('enter')\n",
    "sleep(1)\n",
    "\n",
    "ptg.typewrite('Totais pre-reuniao diaria [17h30]')\n",
    "ptg.press('enter')\n",
    "ptg.typewrite('=======================================================')\n",
    "ptg.press('enter')\n",
    "ptg.press('enter')\n",
    "ptg.typewrite(f'* Consolid: \t{consolid}')\n",
    "ptg.press('enter')\n",
    "ptg.press('enter')\n",
    "ptg.press('enter')\n",
    "ptg.press('enter')\n",
    "\n",
    "ptg.typewrite(f'* Masipack: \t{masipack}')\n",
    "ptg.press('enter')\n",
    "\n",
    "ptg.typewrite(f'* Envase 1: \t{envase1}')\n",
    "ptg.press('enter')\n",
    "\n",
    "ptg.typewrite(f'* Envase 2: \t{envase2}')"
   ]
  },
  {
   "cell_type": "code",
   "execution_count": 28,
   "metadata": {},
   "outputs": [
    {
     "data": {
      "text/plain": [
       "str"
      ]
     },
     "execution_count": 28,
     "metadata": {},
     "output_type": "execute_result"
    }
   ],
   "source": []
  }
 ],
 "metadata": {
  "kernelspec": {
   "display_name": "Python 3",
   "language": "python",
   "name": "python3"
  },
  "language_info": {
   "codemirror_mode": {
    "name": "ipython",
    "version": 3
   },
   "file_extension": ".py",
   "mimetype": "text/x-python",
   "name": "python",
   "nbconvert_exporter": "python",
   "pygments_lexer": "ipython3",
   "version": "3.12.3"
  }
 },
 "nbformat": 4,
 "nbformat_minor": 2
}
